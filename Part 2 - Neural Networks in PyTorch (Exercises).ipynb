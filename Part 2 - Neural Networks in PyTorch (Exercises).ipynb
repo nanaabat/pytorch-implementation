{
 "cells": [
  {
   "cell_type": "markdown",
   "metadata": {},
   "source": [
    "# Neural networks with PyTorch\n",
    "\n",
    "Deep learning networks tend to be massive with dozens or hundreds of layers, that's where the term \"deep\" comes from. You can build one of these deep networks using only weight matrices as we did in the previous notebook, but in general it's very cumbersome and difficult to implement. PyTorch has a nice module `nn` that provides a nice way to efficiently build large neural networks."
   ]
  },
  {
   "cell_type": "code",
   "execution_count": 1,
   "metadata": {},
   "outputs": [],
   "source": [
    "# Import necessary packages\n",
    "\n",
    "%matplotlib inline\n",
    "%config InlineBackend.figure_format = 'retina'\n",
    "\n",
    "import numpy as np\n",
    "import torch\n",
    "\n",
    "import helper\n",
    "\n",
    "import matplotlib.pyplot as plt"
   ]
  },
  {
   "cell_type": "markdown",
   "metadata": {},
   "source": [
    "\n",
    "Now we're going to build a larger network that can solve a (formerly) difficult problem, identifying text in an image. Here we'll use the MNIST dataset which consists of greyscale handwritten digits. Each image is 28x28 pixels, you can see a sample below\n",
    "\n",
    "<img src='assets/mnist.png'>\n",
    "\n",
    "Our goal is to build a neural network that can take one of these images and predict the digit in the image.\n",
    "\n",
    "First up, we need to get our dataset. This is provided through the `torchvision` package. The code below will download the MNIST dataset, then create training and test datasets for us. Don't worry too much about the details here, you'll learn more about this later."
   ]
  },
  {
   "cell_type": "code",
   "execution_count": 2,
   "metadata": {},
   "outputs": [
    {
     "name": "stdout",
     "output_type": "stream",
     "text": [
      "Downloading http://yann.lecun.com/exdb/mnist/train-images-idx3-ubyte.gz to /Users/nanaabaturkson/.pytorch/MNIST_data/MNIST/raw/train-images-idx3-ubyte.gz\n"
     ]
    },
    {
     "name": "stderr",
     "output_type": "stream",
     "text": [
      "100.1%"
     ]
    },
    {
     "name": "stdout",
     "output_type": "stream",
     "text": [
      "Extracting /Users/nanaabaturkson/.pytorch/MNIST_data/MNIST/raw/train-images-idx3-ubyte.gz\n"
     ]
    },
    {
     "name": "stderr",
     "output_type": "stream",
     "text": [
      "28.4%"
     ]
    },
    {
     "name": "stdout",
     "output_type": "stream",
     "text": [
      "Downloading http://yann.lecun.com/exdb/mnist/train-labels-idx1-ubyte.gz to /Users/nanaabaturkson/.pytorch/MNIST_data/MNIST/raw/train-labels-idx1-ubyte.gz\n"
     ]
    },
    {
     "name": "stderr",
     "output_type": "stream",
     "text": [
      "0.5%5%"
     ]
    },
    {
     "name": "stdout",
     "output_type": "stream",
     "text": [
      "Extracting /Users/nanaabaturkson/.pytorch/MNIST_data/MNIST/raw/train-labels-idx1-ubyte.gz\n",
      "Downloading http://yann.lecun.com/exdb/mnist/t10k-images-idx3-ubyte.gz to /Users/nanaabaturkson/.pytorch/MNIST_data/MNIST/raw/t10k-images-idx3-ubyte.gz\n"
     ]
    },
    {
     "name": "stderr",
     "output_type": "stream",
     "text": [
      "100.4%"
     ]
    },
    {
     "name": "stdout",
     "output_type": "stream",
     "text": [
      "Extracting /Users/nanaabaturkson/.pytorch/MNIST_data/MNIST/raw/t10k-images-idx3-ubyte.gz\n",
      "Downloading http://yann.lecun.com/exdb/mnist/t10k-labels-idx1-ubyte.gz to /Users/nanaabaturkson/.pytorch/MNIST_data/MNIST/raw/t10k-labels-idx1-ubyte.gz\n"
     ]
    },
    {
     "name": "stderr",
     "output_type": "stream",
     "text": [
      "180.4%"
     ]
    },
    {
     "name": "stdout",
     "output_type": "stream",
     "text": [
      "Extracting /Users/nanaabaturkson/.pytorch/MNIST_data/MNIST/raw/t10k-labels-idx1-ubyte.gz\n",
      "Processing...\n",
      "Done!\n"
     ]
    }
   ],
   "source": [
    "### Run this cell\n",
    "\n",
    "from torchvision import datasets, transforms\n",
    "\n",
    "# Define a transform to normalize the data\n",
    "transform = transforms.Compose([transforms.ToTensor(),\n",
    "                              transforms.Normalize((0.5,), (0.5,)),\n",
    "                              ])\n",
    "\n",
    "# Download and load the training data\n",
    "trainset = datasets.MNIST('~/.pytorch/MNIST_data/', download=True, train=True, transform=transform)\n",
    "trainloader = torch.utils.data.DataLoader(trainset, batch_size=64, shuffle=True)"
   ]
  },
  {
   "cell_type": "markdown",
   "metadata": {},
   "source": [
    "We have the training data loaded into `trainloader` and we make that an iterator with `iter(trainloader)`. Later, we'll use this to loop through the dataset for training, like\n",
    "\n",
    "```python\n",
    "for image, label in trainloader:\n",
    "    ## do things with images and labels\n",
    "```\n",
    "\n",
    "You'll notice I created the `trainloader` with a batch size of 64, and `shuffle=True`. The batch size is the number of images we get in one iteration from the data loader and pass through our network, often called a *batch*. And `shuffle=True` tells it to shuffle the dataset every time we start going through the data loader again. But here I'm just grabbing the first batch so we can check out the data. We can see below that `images` is just a tensor with size `(64, 1, 28, 28)`. So, 64 images per batch, 1 color channel, and 28x28 images."
   ]
  },
  {
   "cell_type": "code",
   "execution_count": 9,
   "metadata": {},
   "outputs": [
    {
     "name": "stdout",
     "output_type": "stream",
     "text": [
      "<class 'torch.Tensor'>\n",
      "torch.Size([64, 1, 28, 28])\n",
      "torch.Size([64])\n"
     ]
    }
   ],
   "source": [
    "dataiter = iter(trainloader)\n",
    "images, labels = dataiter.next()\n",
    "print(type(images))\n",
    "print(images.shape)\n",
    "print(labels.shape)"
   ]
  },
  {
   "cell_type": "code",
   "execution_count": 10,
   "metadata": {},
   "outputs": [
    {
     "data": {
      "text/plain": [
       "tensor([[[[-1., -1., -1.,  ..., -1., -1., -1.],\n",
       "          [-1., -1., -1.,  ..., -1., -1., -1.],\n",
       "          [-1., -1., -1.,  ..., -1., -1., -1.],\n",
       "          ...,\n",
       "          [-1., -1., -1.,  ..., -1., -1., -1.],\n",
       "          [-1., -1., -1.,  ..., -1., -1., -1.],\n",
       "          [-1., -1., -1.,  ..., -1., -1., -1.]]],\n",
       "\n",
       "\n",
       "        [[[-1., -1., -1.,  ..., -1., -1., -1.],\n",
       "          [-1., -1., -1.,  ..., -1., -1., -1.],\n",
       "          [-1., -1., -1.,  ..., -1., -1., -1.],\n",
       "          ...,\n",
       "          [-1., -1., -1.,  ..., -1., -1., -1.],\n",
       "          [-1., -1., -1.,  ..., -1., -1., -1.],\n",
       "          [-1., -1., -1.,  ..., -1., -1., -1.]]],\n",
       "\n",
       "\n",
       "        [[[-1., -1., -1.,  ..., -1., -1., -1.],\n",
       "          [-1., -1., -1.,  ..., -1., -1., -1.],\n",
       "          [-1., -1., -1.,  ..., -1., -1., -1.],\n",
       "          ...,\n",
       "          [-1., -1., -1.,  ..., -1., -1., -1.],\n",
       "          [-1., -1., -1.,  ..., -1., -1., -1.],\n",
       "          [-1., -1., -1.,  ..., -1., -1., -1.]]],\n",
       "\n",
       "\n",
       "        ...,\n",
       "\n",
       "\n",
       "        [[[-1., -1., -1.,  ..., -1., -1., -1.],\n",
       "          [-1., -1., -1.,  ..., -1., -1., -1.],\n",
       "          [-1., -1., -1.,  ..., -1., -1., -1.],\n",
       "          ...,\n",
       "          [-1., -1., -1.,  ..., -1., -1., -1.],\n",
       "          [-1., -1., -1.,  ..., -1., -1., -1.],\n",
       "          [-1., -1., -1.,  ..., -1., -1., -1.]]],\n",
       "\n",
       "\n",
       "        [[[-1., -1., -1.,  ..., -1., -1., -1.],\n",
       "          [-1., -1., -1.,  ..., -1., -1., -1.],\n",
       "          [-1., -1., -1.,  ..., -1., -1., -1.],\n",
       "          ...,\n",
       "          [-1., -1., -1.,  ..., -1., -1., -1.],\n",
       "          [-1., -1., -1.,  ..., -1., -1., -1.],\n",
       "          [-1., -1., -1.,  ..., -1., -1., -1.]]],\n",
       "\n",
       "\n",
       "        [[[-1., -1., -1.,  ..., -1., -1., -1.],\n",
       "          [-1., -1., -1.,  ..., -1., -1., -1.],\n",
       "          [-1., -1., -1.,  ..., -1., -1., -1.],\n",
       "          ...,\n",
       "          [-1., -1., -1.,  ..., -1., -1., -1.],\n",
       "          [-1., -1., -1.,  ..., -1., -1., -1.],\n",
       "          [-1., -1., -1.,  ..., -1., -1., -1.]]]])"
      ]
     },
     "execution_count": 10,
     "metadata": {},
     "output_type": "execute_result"
    }
   ],
   "source": [
    "images"
   ]
  },
  {
   "cell_type": "markdown",
   "metadata": {},
   "source": [
    "This is what one of the images looks like. "
   ]
  },
  {
   "cell_type": "code",
   "execution_count": 5,
   "metadata": {},
   "outputs": [
    {
     "data": {
      "image/png": "[encoded data removed]",
      "text/plain": [
       "<Figure size 432x288 with 1 Axes>"
      ]
     },
     "metadata": {
      "image/png": {
       "height": 250,
       "width": 253
      },
      "needs_background": "light"
     },
     "output_type": "display_data"
    }
   ],
   "source": [
    "plt.imshow(images[1].numpy().squeeze(), cmap='Greys_r');"
   ]
  },
  {
   "cell_type": "markdown",
   "metadata": {},
   "source": [
    "First, let's try to build a simple network for this dataset using weight matrices and matrix multiplications. Then, we'll see how to do it using PyTorch's `nn` module which provides a much more convenient and powerful method for defining network architectures.\n",
    "\n",
    "The networks you've seen so far are called *fully-connected* or *dense* networks. Each unit in one layer is connected to each unit in the next layer. In fully-connected networks, the input to each layer must be a one-dimensional vector (which can be stacked into a 2D tensor as a batch of multiple examples). However, our images are 28x28 2D tensors, so we need to convert them into 1D vectors. Thinking about sizes, we need to convert the batch of images with shape `(64, 1, 28, 28)` to a have a shape of `(64, 784)`, 784 is 28 times 28. This is typically called *flattening*, we flattened the 2D images into 1D vectors.\n",
    "\n",
    "Previously you built a network with one output unit. Here we need 10 output units, one for each digit. We want our network to predict the digit shown in an image, so what we'll do is calculate probabilities that the image is of any one digit or class. This ends up being a discrete probability distribution over the classes (digits) that tells us the most likely class for the image. That means we need 10 output units for the 10 classes (digits). We'll see how to convert the network output into a probability distribution next.\n",
    "\n",
    "> **Exercise:** Flatten the batch of images `images`. Then build a multi-layer network with 784 input units, 256 hidden units, and 10 output units using random tensors for the weights and biases. For now, use a sigmoid activation for the hidden layer. Leave the output layer without an activation, we'll add one that gives us a probability distribution next."
   ]
  },
  {
   "cell_type": "code",
   "execution_count": 24,
   "metadata": {},
   "outputs": [
    {
     "data": {
      "text/plain": [
       "torch.Size([64, 784])"
      ]
     },
     "execution_count": 24,
     "metadata": {},
     "output_type": "execute_result"
    }
   ],
   "source": [
    "features = images.reshape((64,784))\n",
    "features.shape"
   ]
  },
  {
   "cell_type": "code",
   "execution_count": 26,
   "metadata": {},
   "outputs": [
    {
     "data": {
      "text/plain": [
       "784"
      ]
     },
     "execution_count": 26,
     "metadata": {},
     "output_type": "execute_result"
    }
   ],
   "source": [
    "n_input = features.shape[1] \n",
    "n_input"
   ]
  },
  {
   "cell_type": "code",
   "execution_count": 62,
   "metadata": {},
   "outputs": [],
   "source": [
    "### Generate some data\n",
    "torch.manual_seed(784) # Set the random seed so things are predictable\n",
    "\n",
    "def activation(x):\n",
    "    return 1/(1+torch.exp(-x))\n",
    "\n",
    "#Features are 784 images\n",
    "features = images.reshape((64,784))\n",
    "\n",
    "#Define the size of each layer in our network\n",
    "n_input = features.shape[1]     # Number of input units, must match number of input features\n",
    "n_hidden = 256                    # Number of hidden units \n",
    "n_output = 10                     # Number of output units\n",
    "\n",
    "\n",
    "#Randomly generating my weights several times\n",
    "\n",
    "#Weights for input for the hidden layer\n",
    "W1 = torch.randn(n_input, n_hidden)\n",
    "\n",
    "#Weights for input for the output layer\n",
    "W2 = torch.randn(n_hidden, n_output)\n",
    "\n",
    "\n",
    "#Randomly generating your bias term\n",
    "\n",
    "#and bias terms for hidden and output layers\n",
    "B1 = torch.randn((64, n_hidden))\n",
    "B2 = torch.randn((64, n_output))\n",
    "\n",
    "\n"
   ]
  },
  {
   "cell_type": "code",
   "execution_count": 32,
   "metadata": {},
   "outputs": [
    {
     "data": {
      "text/plain": [
       "torch.Size([784, 256])"
      ]
     },
     "execution_count": 32,
     "metadata": {},
     "output_type": "execute_result"
    }
   ],
   "source": [
    "W1.shape"
   ]
  },
  {
   "cell_type": "code",
   "execution_count": 34,
   "metadata": {},
   "outputs": [
    {
     "data": {
      "text/plain": [
       "torch.Size([256, 10])"
      ]
     },
     "execution_count": 34,
     "metadata": {},
     "output_type": "execute_result"
    }
   ],
   "source": [
    "W2.shape"
   ]
  },
  {
   "cell_type": "code",
   "execution_count": 51,
   "metadata": {},
   "outputs": [
    {
     "data": {
      "text/plain": [
       "torch.Size([64, 256])"
      ]
     },
     "execution_count": 51,
     "metadata": {},
     "output_type": "execute_result"
    }
   ],
   "source": [
    "B1.shape"
   ]
  },
  {
   "cell_type": "code",
   "execution_count": 52,
   "metadata": {},
   "outputs": [
    {
     "data": {
      "text/plain": [
       "torch.Size([64, 10])"
      ]
     },
     "execution_count": 52,
     "metadata": {},
     "output_type": "execute_result"
    }
   ],
   "source": [
    "B2.shape"
   ]
  },
  {
   "cell_type": "code",
   "execution_count": null,
   "metadata": {},
   "outputs": [],
   "source": [
    "torch.nn.Sigmoid( torch.mm( ,W2) + B2)\n",
    "#out = # output of your network, should have shape (64,10)\n",
    "in1 = torch.nn.Sigmoid(+B1)"
   ]
  },
  {
   "cell_type": "code",
   "execution_count": 57,
   "metadata": {},
   "outputs": [
    {
     "data": {
      "text/plain": [
       "torch.Size([64, 256])"
      ]
     },
     "execution_count": 57,
     "metadata": {},
     "output_type": "execute_result"
    }
   ],
   "source": [
    "## Your solution\n",
    "call = torch.mm(features,W1)\n",
    "call.shape\n",
    "\n",
    "\n"
   ]
  },
  {
   "cell_type": "code",
   "execution_count": 63,
   "metadata": {},
   "outputs": [
    {
     "data": {
      "text/plain": [
       "torch.Size([64, 256])"
      ]
     },
     "execution_count": 63,
     "metadata": {},
     "output_type": "execute_result"
    }
   ],
   "source": [
    "H1 = activation(call + B1)\n",
    "H1.shape"
   ]
  },
  {
   "cell_type": "code",
   "execution_count": 64,
   "metadata": {},
   "outputs": [
    {
     "data": {
      "text/plain": [
       "torch.Size([64, 10])"
      ]
     },
     "execution_count": 64,
     "metadata": {},
     "output_type": "execute_result"
    }
   ],
   "source": [
    "y1 =  torch.mm(H1,W2)\n",
    "y1.shape"
   ]
  },
  {
   "cell_type": "code",
   "execution_count": 68,
   "metadata": {},
   "outputs": [
    {
     "name": "stdout",
     "output_type": "stream",
     "text": [
      "tensor([[ 4.9996e+00,  1.2262e+01,  3.6702e+00, -1.0482e+01, -2.9033e+00,\n",
      "         -1.3150e+01,  8.7398e+00, -2.5021e+00,  6.7810e+00,  1.2276e+01],\n",
      "        [ 1.0979e+01,  1.4079e+01, -3.7411e-01, -1.1073e+01,  1.4335e+01,\n",
      "         -3.2779e-02,  8.9541e+00,  1.1970e+00,  1.1807e+01,  8.4499e+00],\n",
      "        [ 8.4716e+00,  2.0770e+01,  3.6407e-01, -7.3006e+00,  6.4984e+00,\n",
      "         -1.0724e+01, -2.7246e+00, -5.2766e+00,  1.1427e+01,  1.5738e+01],\n",
      "        [ 8.7172e+00,  2.2922e+01, -3.5489e+00, -9.5807e+00,  4.6948e+00,\n",
      "         -9.1939e-01,  8.3092e+00, -2.0591e-01,  7.3569e+00,  1.9105e+01],\n",
      "        [-2.3362e+00,  8.4028e+00,  3.3527e+00, -1.4792e+01,  4.9698e+00,\n",
      "          1.0820e+01,  1.1202e+01, -2.3517e+00,  4.2264e+00,  1.2445e+01],\n",
      "        [ 1.1192e+01,  1.9634e+01,  2.2959e+00, -1.2521e+01,  3.8002e+00,\n",
      "         -6.6069e+00,  2.4970e+00, -9.6185e+00,  5.8249e+00,  1.7898e+01],\n",
      "        [ 1.3542e+01,  1.3940e+01,  3.2131e+00, -2.2844e+01,  6.3893e+00,\n",
      "          3.1991e+00,  3.8709e+00, -1.3135e+00,  1.8664e+01,  1.5862e+01],\n",
      "        [ 8.5478e+00,  1.2553e+01,  8.8491e+00, -1.3644e+01,  8.7681e+00,\n",
      "         -6.4001e+00,  1.0620e+01, -6.7904e+00,  2.7574e+00,  1.9007e+01],\n",
      "        [ 1.9019e+01,  1.3803e+01,  8.5199e+00, -1.5305e+01,  4.0732e+00,\n",
      "         -8.7385e+00,  1.3837e+01,  5.2475e+00,  4.7256e+00,  7.8407e+00],\n",
      "        [ 9.3330e+00,  2.3493e+01,  7.5832e-01, -6.9747e+00,  1.3890e+00,\n",
      "         -3.6397e+00,  9.2111e+00, -3.2854e+00, -6.9172e-01,  1.4616e+01],\n",
      "        [ 1.2797e+01,  1.3300e+01, -1.9519e-01, -1.4203e+01,  1.0598e+01,\n",
      "          5.7890e+00,  1.4591e+01, -1.2130e+01,  6.5356e-01,  9.4214e+00],\n",
      "        [ 2.6804e+00,  2.0269e+01, -6.3982e-01, -1.5927e+01,  1.3370e+01,\n",
      "          1.4635e+00,  1.4850e+01,  7.4588e+00, -8.2827e-01,  4.5209e+00],\n",
      "        [ 1.6800e+01,  1.8726e+01,  2.8003e+00, -1.9170e+01,  4.7121e+00,\n",
      "         -3.5660e+00,  1.3742e+01, -3.5240e-02,  3.4523e+00,  1.2739e+01],\n",
      "        [ 1.3359e+01,  1.4080e+01, -3.0675e+00, -1.1432e+01,  1.1198e+01,\n",
      "         -6.3497e-01,  6.4212e+00, -1.0124e+01,  1.0866e+01,  1.5428e+01],\n",
      "        [ 1.4693e+01,  1.6411e+01,  6.0729e-01, -1.6132e+01,  5.1048e+00,\n",
      "         -1.1658e+01,  1.2169e+01, -7.7544e-01,  7.2687e+00,  1.3668e+01],\n",
      "        [ 9.5899e+00,  1.9454e+01,  1.0420e+01, -1.0209e+01,  7.2390e+00,\n",
      "          4.8841e+00,  6.1609e+00, -1.4908e+00,  3.9283e+00,  1.7873e+01],\n",
      "        [ 1.5908e+01,  1.9723e+01, -1.7455e+00, -2.2814e+01, -3.7603e+00,\n",
      "         -1.0619e+01,  4.8450e+00, -5.6159e+00,  1.2972e+01,  1.0905e+01],\n",
      "        [ 7.7393e+00,  1.6089e+01,  2.1498e+00, -1.3323e+01,  3.4210e+00,\n",
      "         -1.1036e+01,  1.3382e+01,  8.7118e-01,  5.3581e+00,  3.8408e+00],\n",
      "        [ 1.4469e+01,  1.3685e+01, -5.9537e-01, -2.2923e+01,  1.5214e+01,\n",
      "         -5.1697e+00,  6.9108e+00,  1.0435e+01,  2.7941e-02,  1.0988e+01],\n",
      "        [ 1.4834e+01,  1.2289e+01,  5.3345e+00, -2.0575e+01,  1.2552e+01,\n",
      "         -3.1667e+00,  7.4327e+00, -7.8866e+00,  8.6579e+00,  9.9632e+00],\n",
      "        [ 2.0047e+01,  1.9227e+01, -1.8693e+00, -1.8589e+01,  2.4712e+00,\n",
      "         -5.0153e+00,  6.2890e+00, -9.2883e+00,  9.3410e-01,  7.6702e+00],\n",
      "        [ 3.1035e+00,  1.0866e+01,  8.7913e+00, -1.5548e+01,  8.1119e-01,\n",
      "         -6.7407e+00,  5.8583e+00,  1.1709e+00,  3.8254e+00,  6.5363e+00],\n",
      "        [ 1.1466e+01,  3.8369e+00,  1.0472e+01, -8.6235e+00,  3.0890e+00,\n",
      "         -1.1706e+01,  6.5046e+00, -4.9705e+00,  5.4510e-01,  1.7378e+01],\n",
      "        [ 9.9229e+00,  1.0015e+01,  7.8146e+00, -8.8076e+00,  9.0786e+00,\n",
      "         -2.7451e+00,  7.6380e+00,  4.8700e+00,  2.8293e+00,  1.1793e+01],\n",
      "        [ 7.9297e+00,  1.6050e+01,  8.4283e+00, -1.0731e+01,  4.2325e+00,\n",
      "         -5.5504e+00,  4.0879e+00,  2.3181e+00,  2.4347e+00,  1.4756e+01],\n",
      "        [ 7.0672e+00,  1.5511e+01,  1.1366e+00, -2.3390e+01,  9.0720e+00,\n",
      "         -4.8734e+00,  8.4914e+00, -3.3328e+00, -3.0877e+00,  1.3659e+01],\n",
      "        [ 1.1305e+01,  1.7694e+01, -1.9551e-01, -2.1183e+01, -2.2979e+00,\n",
      "         -8.3157e+00,  1.9584e+00, -2.4215e+00,  4.4377e+00,  2.5937e+00],\n",
      "        [ 9.3213e+00,  1.9461e+01,  1.9511e+00, -1.0080e+01,  8.4513e+00,\n",
      "         -1.0761e+01,  2.5494e+00, -1.6847e+00,  1.2215e+01,  5.7038e+00],\n",
      "        [ 1.6015e+00,  1.4429e+01,  9.7178e+00, -1.1326e+01,  4.6322e+00,\n",
      "         -1.5685e+00,  7.8329e+00,  4.3965e+00,  1.2315e+01,  9.3606e+00],\n",
      "        [ 2.9369e+00,  9.6697e+00,  1.4066e+01, -2.1320e+00,  4.0429e+00,\n",
      "         -7.5289e+00,  1.2044e+01, -8.5250e+00,  5.8063e+00,  9.0641e+00],\n",
      "        [ 9.0437e+00,  1.1014e+01,  2.0515e+00, -1.9799e+01,  5.9265e+00,\n",
      "          7.3248e+00,  1.9191e+00, -1.4703e+01,  3.4845e+00,  2.2659e+01],\n",
      "        [ 8.5415e+00,  1.6943e+01,  1.2271e+00, -1.2738e+01,  5.9063e+00,\n",
      "          9.6670e-01,  6.9600e+00, -2.5189e+00,  1.5990e+01,  1.5536e+01],\n",
      "        [ 8.0392e+00,  1.5804e+01,  1.4177e-01, -1.6325e+01,  1.3439e+01,\n",
      "         -8.0546e+00,  7.1992e+00,  1.2632e+00,  1.2753e+01,  1.1571e+01],\n",
      "        [ 1.7537e+01,  1.2435e+01,  2.2472e+00, -1.7638e+01,  2.0256e+00,\n",
      "          1.3260e+00,  5.8501e+00,  9.1197e+00,  1.3678e+01,  3.3106e+00],\n",
      "        [-6.2125e+00,  2.1412e+01,  3.6400e+00, -2.0358e+01, -6.3950e+00,\n",
      "         -1.0713e+01,  1.0597e+01,  3.6802e+00,  6.3368e+00,  1.2110e+01],\n",
      "        [-1.1717e+00,  1.2358e+01,  9.5842e+00, -1.1712e+01, -7.2165e+00,\n",
      "         -1.2962e+01,  9.2579e+00,  3.9875e+00,  5.9602e+00,  1.2693e+01],\n",
      "        [ 7.9310e+00,  1.3352e+01,  5.9651e+00, -1.5994e+01, -4.0911e+00,\n",
      "         -5.2823e+00,  1.3563e+01,  8.0144e+00,  1.1854e+00,  1.9345e+01],\n",
      "        [ 1.6768e+01,  2.2236e+01,  1.1185e+01, -2.5899e+01, -1.9730e+00,\n",
      "          8.3843e+00,  4.1644e+00,  2.4409e+00,  1.0030e+01,  2.0661e+01],\n",
      "        [ 2.0807e+01,  2.2859e+01, -8.8847e+00, -1.0665e+01,  4.2125e+00,\n",
      "          4.2922e-01, -4.3654e+00,  9.3150e-01,  7.0555e+00,  1.3943e+01],\n",
      "        [-2.6735e+00,  2.5976e+00,  1.1629e+00, -1.8325e+01,  2.9258e+00,\n",
      "         -8.3413e+00,  1.0416e+01, -4.0415e+00,  9.0469e+00,  2.0378e+01],\n",
      "        [ 1.5875e+01,  1.4939e+01, -1.4191e+01, -1.3777e+01,  1.0763e+01,\n",
      "         -6.6841e+00,  5.2206e+00,  1.3855e+00,  3.8153e+00,  9.3451e+00],\n",
      "        [ 2.7231e-01,  1.5752e+01, -4.8071e+00, -1.6040e+01,  4.0922e+00,\n",
      "         -5.3336e+00,  4.5853e+00,  2.8023e+00,  8.6415e+00,  4.0776e+00],\n",
      "        [ 4.5239e+00,  2.1452e+01,  6.7469e+00, -7.9072e+00,  6.9055e+00,\n",
      "         -1.1419e+01,  4.2335e+00,  1.5885e+00, -2.2591e+00,  9.1709e+00],\n",
      "        [ 7.2016e+00,  1.4211e+01,  7.6030e+00, -7.1309e+00,  5.2166e+00,\n",
      "         -4.5678e+00, -2.3320e+00, -1.1600e+01,  8.7978e+00,  1.9105e+01],\n",
      "        [ 1.0469e+01,  1.4403e+01,  8.2522e+00, -1.2789e+01, -1.5316e+00,\n",
      "         -1.0682e+01,  1.7028e+01, -8.6970e-01,  5.7091e+00,  6.0671e+00],\n",
      "        [ 1.4327e+01,  1.7064e+01,  2.1860e+00, -1.2046e+01,  7.0397e+00,\n",
      "         -2.7449e+00,  1.2712e+00, -1.0890e+01,  1.3825e+01,  6.6738e+00],\n",
      "        [ 2.5627e+00,  2.7782e+00,  3.2557e+00, -1.7842e+01,  2.6145e+00,\n",
      "         -2.0410e+00,  1.1797e+01, -1.9395e+00,  9.6093e+00,  2.3677e+01],\n",
      "        [ 1.3059e+01,  1.6669e+01,  4.9343e+00, -7.6943e+00,  2.9338e+00,\n",
      "         -4.4338e+00,  5.8421e+00, -9.3878e+00,  3.3438e+00,  9.8391e+00],\n",
      "        [ 8.2648e+00,  2.2757e+01,  4.8694e+00, -1.8519e+01,  1.1417e+01,\n",
      "          1.1348e+01,  1.0891e+00,  2.2537e-01,  1.0242e+01,  1.1890e+01],\n",
      "        [ 9.8709e+00,  2.3956e+01,  1.0872e+01, -1.2214e+01,  1.4711e+01,\n",
      "         -5.2565e+00,  7.5507e+00, -2.3019e+00,  1.4259e+01,  1.4786e+01],\n",
      "        [ 1.4917e+01,  1.4693e+01,  6.2204e+00, -1.1531e+01, -2.4584e+00,\n",
      "         -7.2884e+00,  3.3186e+00, -1.5183e+00,  1.6693e+00,  8.8650e+00],\n",
      "        [ 3.0426e+00,  1.9675e+01,  3.9610e+00, -5.9120e+00, -3.1235e+00,\n",
      "         -6.0183e+00,  1.2975e+01, -3.6700e+00,  1.6934e+00,  1.4589e+01],\n",
      "        [ 1.3034e+01,  2.0377e+01,  1.0567e+01, -1.5262e+01,  1.7456e-01,\n",
      "         -9.6007e+00,  2.3457e+00, -1.4882e+00,  8.2175e+00,  1.2366e+01],\n",
      "        [ 1.4635e+01,  1.3492e+01,  5.9285e+00, -1.4209e+01, -1.4434e+00,\n",
      "         -1.9893e+00,  2.0379e+00, -3.9443e+00,  4.3296e+00,  2.0526e+01],\n",
      "        [ 1.8346e+01,  9.7178e+00,  8.6283e-02, -5.7466e+00,  9.0226e-01,\n",
      "         -1.5387e+01,  2.0483e+00, -3.3324e+00, -2.7472e-01,  4.7342e+00],\n",
      "        [ 1.5974e+01,  1.6958e+01,  6.4438e+00, -1.5784e+01,  5.1694e+00,\n",
      "          3.6773e+00,  3.9418e+00, -5.6220e+00,  2.7322e+00,  1.3785e+01],\n",
      "        [ 8.7270e+00,  1.4326e+01, -2.3364e+00, -1.5824e+01,  8.8350e-01,\n",
      "         -1.5951e+01,  4.6295e+00,  1.8630e+00,  8.2875e+00,  6.7143e+00],\n",
      "        [ 5.0194e+00,  2.8563e+01, -4.5982e+00, -7.2361e+00,  3.0475e+00,\n",
      "          4.7703e-01,  1.4209e+01, -5.3784e+00,  5.7381e-01,  1.4293e+01],\n",
      "        [ 6.8275e+00,  2.1592e+01,  1.5177e+00, -1.3701e+01, -1.7924e+00,\n",
      "         -2.1124e+00,  1.0439e+01, -4.5718e+00,  9.2715e+00,  1.4229e+01],\n",
      "        [ 1.0271e+01,  1.4634e+01,  9.7882e+00, -1.6814e+01,  4.6882e+00,\n",
      "         -2.5407e+00,  1.1492e+01,  8.5358e+00,  2.5327e+00,  9.8285e+00],\n",
      "        [ 8.5551e-01,  1.9400e+01,  3.1045e+00, -1.1484e+01,  1.7738e+01,\n",
      "         -4.5859e+00,  7.7331e+00, -5.3794e+00,  9.1084e+00,  2.0387e+01],\n",
      "        [ 1.6906e+01,  2.3579e+01,  7.8995e+00, -1.4988e+01,  1.3544e+01,\n",
      "         -9.0179e+00,  1.1514e+01, -5.8555e-01,  6.1284e+00,  7.9097e+00],\n",
      "        [-3.8897e+00,  1.4978e+01, -1.0921e+00, -2.1200e+01,  1.4499e+00,\n",
      "         -1.1023e+01,  2.1335e+00,  1.7548e+01,  3.3169e+00,  1.1463e+01],\n",
      "        [ 1.3891e+01,  2.7544e+01,  5.7227e+00, -1.0818e+01,  1.1513e+01,\n",
      "         -3.1207e+00,  1.1879e+00, -2.9672e+00,  9.9422e+00,  1.0421e+01]])\n"
     ]
    }
   ],
   "source": [
    "out = y1 + B2\n",
    "out.shape\n",
    "print(out)"
   ]
  },
  {
   "cell_type": "markdown",
   "metadata": {},
   "source": [
    "Now we have 10 outputs for our network. We want to pass in an image to our network and get out a probability distribution over the classes that tells us the likely class(es) the image belongs to. Something that looks like this:\n",
    "<img src='assets/image_distribution.png' width=500px>\n",
    "\n",
    "Here we see that the probability for each class is roughly the same. This is representing an untrained network, it hasn't seen any data yet so it just returns a uniform distribution with equal probabilities for each class.\n",
    "\n",
    "To calculate this probability distribution, we often use the [**softmax** function](https://en.wikipedia.org/wiki/Softmax_function). Mathematically this looks like\n",
    "\n",
    "$$\n",
    "\\Large \\sigma(x_i) = \\cfrac{e^{x_i}}{\\sum_k^K{e^{x_k}}}\n",
    "$$\n",
    "\n",
    "What this does is squish each input $x_i$ between 0 and 1 and normalizes the values to give you a proper probability distribution where the probabilites sum up to one.\n",
    "\n",
    "> **Exercise:** Implement a function `softmax` that performs the softmax calculation and returns probability distributions for each example in the batch. Note that you'll need to pay attention to the shapes when doing this. If you have a tensor `a` with shape `(64, 10)` and a tensor `b` with shape `(64,)`, doing `a/b` will give you an error because PyTorch will try to do the division across the columns (called broadcasting) but you'll get a size mismatch. The way to think about this is for each of the 64 examples, you only want to divide by one value, the sum in the denominator. So you need `b` to have a shape of `(64, 1)`. This way PyTorch will divide the 10 values in each row of `a` by the one value in each row of `b`. Pay attention to how you take the sum as well. You'll need to define the `dim` keyword in `torch.sum`. Setting `dim=0` takes the sum across the rows while `dim=1` takes the sum across the columns."
   ]
  },
  {
   "cell_type": "code",
   "execution_count": 87,
   "metadata": {},
   "outputs": [],
   "source": [
    "u = torch.exp(out)\n"
   ]
  },
  {
   "cell_type": "code",
   "execution_count": 83,
   "metadata": {},
   "outputs": [
    {
     "name": "stdout",
     "output_type": "stream",
     "text": [
      "torch.Size([10])\n"
     ]
    }
   ],
   "source": [
    "print(torch.sum(u,dim=0).shape)"
   ]
  },
  {
   "cell_type": "code",
   "execution_count": 76,
   "metadata": {},
   "outputs": [
    {
     "name": "stdout",
     "output_type": "stream",
     "text": [
      "torch.Size([64])\n"
     ]
    }
   ],
   "source": [
    "print(torch.sum(u, dim=1).shape)"
   ]
  },
  {
   "cell_type": "code",
   "execution_count": 84,
   "metadata": {},
   "outputs": [
    {
     "name": "stdout",
     "output_type": "stream",
     "text": [
      "tensor([4.3322e+05, 3.1874e+06, 1.0547e+09, 9.2077e+09, 3.8199e+05, 3.9587e+08,\n",
      "        1.3717e+08, 1.8005e+08, 1.8392e+08, 1.5951e+10, 3.1824e+06, 6.3868e+08,\n",
      "        1.5675e+08, 7.0757e+06, 1.6866e+07, 3.3883e+08, 3.7626e+08, 1.0364e+07,\n",
      "        6.9432e+06, 3.2988e+06, 7.3246e+08, 6.0054e+04, 3.5392e+07, 1.8856e+05,\n",
      "        1.1913e+07, 6.3174e+06, 4.8448e+07, 2.8327e+08, 2.1014e+06, 1.4801e+06,\n",
      "        6.9310e+09, 3.7199e+07, 8.4455e+06, 4.2454e+07, 1.9922e+09, 5.8382e+05,\n",
      "        2.5330e+08, 5.4961e+09, 9.5541e+09, 7.0827e+08, 1.0977e+07, 6.9413e+06,\n",
      "        2.0715e+09, 1.9977e+08, 2.6692e+07, 2.8422e+07, 1.9185e+10, 1.7830e+07,\n",
      "        7.6426e+09, 2.5354e+10, 5.4192e+06, 3.5325e+08, 7.0810e+08, 8.2368e+08,\n",
      "        9.2866e+07, 3.2797e+07, 1.6769e+06, 2.5399e+12, 2.3847e+09, 2.4349e+06,\n",
      "        1.0313e+09, 1.7403e+10, 4.5091e+07, 9.1707e+11])\n"
     ]
    }
   ],
   "source": [
    "print(torch.sum(u, dim=1))"
   ]
  },
  {
   "cell_type": "code",
   "execution_count": 82,
   "metadata": {},
   "outputs": [
    {
     "name": "stdout",
     "output_type": "stream",
     "text": [
      "tensor([[4.3322e+05],\n",
      "        [3.1874e+06],\n",
      "        [1.0547e+09],\n",
      "        [9.2077e+09],\n",
      "        [3.8199e+05],\n",
      "        [3.9587e+08],\n",
      "        [1.3717e+08],\n",
      "        [1.8005e+08],\n",
      "        [1.8392e+08],\n",
      "        [1.5951e+10],\n",
      "        [3.1824e+06],\n",
      "        [6.3868e+08],\n",
      "        [1.5675e+08],\n",
      "        [7.0757e+06],\n",
      "        [1.6866e+07],\n",
      "        [3.3883e+08],\n",
      "        [3.7626e+08],\n",
      "        [1.0364e+07],\n",
      "        [6.9432e+06],\n",
      "        [3.2988e+06],\n",
      "        [7.3246e+08],\n",
      "        [6.0054e+04],\n",
      "        [3.5392e+07],\n",
      "        [1.8856e+05],\n",
      "        [1.1913e+07],\n",
      "        [6.3174e+06],\n",
      "        [4.8448e+07],\n",
      "        [2.8327e+08],\n",
      "        [2.1014e+06],\n",
      "        [1.4801e+06],\n",
      "        [6.9310e+09],\n",
      "        [3.7199e+07],\n",
      "        [8.4455e+06],\n",
      "        [4.2454e+07],\n",
      "        [1.9922e+09],\n",
      "        [5.8382e+05],\n",
      "        [2.5330e+08],\n",
      "        [5.4961e+09],\n",
      "        [9.5541e+09],\n",
      "        [7.0827e+08],\n",
      "        [1.0977e+07],\n",
      "        [6.9413e+06],\n",
      "        [2.0715e+09],\n",
      "        [1.9977e+08],\n",
      "        [2.6692e+07],\n",
      "        [2.8422e+07],\n",
      "        [1.9185e+10],\n",
      "        [1.7830e+07],\n",
      "        [7.6426e+09],\n",
      "        [2.5354e+10],\n",
      "        [5.4192e+06],\n",
      "        [3.5325e+08],\n",
      "        [7.0810e+08],\n",
      "        [8.2368e+08],\n",
      "        [9.2866e+07],\n",
      "        [3.2797e+07],\n",
      "        [1.6769e+06],\n",
      "        [2.5399e+12],\n",
      "        [2.3847e+09],\n",
      "        [2.4349e+06],\n",
      "        [1.0313e+09],\n",
      "        [1.7403e+10],\n",
      "        [4.5091e+07],\n",
      "        [9.1707e+11]])\n"
     ]
    }
   ],
   "source": [
    "print(torch.sum(u, dim=1).view(-1,1))"
   ]
  },
  {
   "cell_type": "code",
   "execution_count": 85,
   "metadata": {},
   "outputs": [
    {
     "name": "stdout",
     "output_type": "stream",
     "text": [
      "torch.Size([64, 1])\n"
     ]
    }
   ],
   "source": [
    "print(torch.sum(u, dim=1).view(-1,1).shape)"
   ]
  },
  {
   "cell_type": "code",
   "execution_count": null,
   "metadata": {},
   "outputs": [],
   "source": []
  },
  {
   "cell_type": "code",
   "execution_count": 88,
   "metadata": {},
   "outputs": [
    {
     "name": "stdout",
     "output_type": "stream",
     "text": [
      "torch.Size([64, 10])\n",
      "tensor([1.0000, 1.0000, 1.0000, 1.0000, 1.0000, 1.0000, 1.0000, 1.0000, 1.0000,\n",
      "        1.0000, 1.0000, 1.0000, 1.0000, 1.0000, 1.0000, 1.0000, 1.0000, 1.0000,\n",
      "        1.0000, 1.0000, 1.0000, 1.0000, 1.0000, 1.0000, 1.0000, 1.0000, 1.0000,\n",
      "        1.0000, 1.0000, 1.0000, 1.0000, 1.0000, 1.0000, 1.0000, 1.0000, 1.0000,\n",
      "        1.0000, 1.0000, 1.0000, 1.0000, 1.0000, 1.0000, 1.0000, 1.0000, 1.0000,\n",
      "        1.0000, 1.0000, 1.0000, 1.0000, 1.0000, 1.0000, 1.0000, 1.0000, 1.0000,\n",
      "        1.0000, 1.0000, 1.0000, 1.0000, 1.0000, 1.0000, 1.0000, 1.0000, 1.0000,\n",
      "        1.0000])\n"
     ]
    }
   ],
   "source": [
    "def softmax(x):\n",
    "    ## TODO: Implement the softmax function here\n",
    "    return torch.exp(x)/torch.sum(torch.exp(x),dim=1).view(-1,1)\n",
    "\n",
    "# Here, out should be the output of the network in the previous excercise with shape (64,10)\n",
    "probabilities = softmax(out)\n",
    "\n",
    "# Does it have the right shape? Should be (64, 10)\n",
    "print(probabilities.shape)\n",
    "# Does it sum to 1?\n",
    "print(probabilities.sum(dim=1))\n",
    "\n",
    "\n",
    "\n"
   ]
  },
  {
   "cell_type": "markdown",
   "metadata": {},
   "source": [
    "## Building networks with PyTorch\n",
    "\n",
    "PyTorch provides a module `nn` that makes building networks much simpler. Here I'll show you how to build the same one as above with 784 inputs, 256 hidden units, 10 output units and a softmax output."
   ]
  },
  {
   "cell_type": "code",
   "execution_count": 89,
   "metadata": {},
   "outputs": [],
   "source": [
    "from torch import nn"
   ]
  },
  {
   "cell_type": "code",
   "execution_count": 90,
   "metadata": {},
   "outputs": [],
   "source": [
    "class Network(nn.Module):\n",
    "    def __init__(self):\n",
    "        super().__init__()\n",
    "        \n",
    "        # Inputs to hidden layer linear transformation\n",
    "        self.hidden = nn.Linear(784, 256)\n",
    "        # Output layer, 10 units - one for each digit\n",
    "        self.output = nn.Linear(256, 10)\n",
    "        \n",
    "        # Define sigmoid activation and softmax output \n",
    "        self.sigmoid = nn.Sigmoid()\n",
    "        self.softmax = nn.Softmax(dim=1)\n",
    "        \n",
    "    def forward(self, x):\n",
    "        # Pass the input tensor through each of our operations\n",
    "        x = self.hidden(x)\n",
    "        x = self.sigmoid(x)\n",
    "        x = self.output(x)\n",
    "        x = self.softmax(x)\n",
    "        \n",
    "        return x"
   ]
  },
  {
   "cell_type": "markdown",
   "metadata": {},
   "source": [
    "Let's go through this bit by bit.\n",
    "\n",
    "```python\n",
    "class Network(nn.Module):\n",
    "```\n",
    "\n",
    "Here we're inheriting from `nn.Module`. Combined with `super().__init__()` this creates a class that tracks the architecture and provides a lot of useful methods and attributes. It is mandatory to inherit from `nn.Module` when you're creating a class for your network. The name of the class itself can be anything.\n",
    "\n",
    "```python\n",
    "self.hidden = nn.Linear(784, 256)\n",
    "```\n",
    "\n",
    "This line creates a module for a linear transformation, $x\\mathbf{W} + b$, with 784 inputs and 256 outputs and assigns it to `self.hidden`. The module automatically creates the weight and bias tensors which we'll use in the `forward` method. You can access the weight and bias tensors once the network (`net`) is created with `net.hidden.weight` and `net.hidden.bias`.\n",
    "\n",
    "```python\n",
    "self.output = nn.Linear(256, 10)\n",
    "```\n",
    "\n",
    "Similarly, this creates another linear transformation with 256 inputs and 10 outputs.\n",
    "\n",
    "```python\n",
    "self.sigmoid = nn.Sigmoid()\n",
    "self.softmax = nn.Softmax(dim=1)\n",
    "```\n",
    "\n",
    "Here I defined operations for the sigmoid activation and softmax output. Setting `dim=1` in `nn.Softmax(dim=1)` calculates softmax across the columns.\n",
    "\n",
    "```python\n",
    "def forward(self, x):\n",
    "```\n",
    "\n",
    "PyTorch networks created with `nn.Module` must have a `forward` method defined. It takes in a tensor `x` and passes it through the operations you defined in the `__init__` method.\n",
    "\n",
    "```python\n",
    "x = self.hidden(x)\n",
    "x = self.sigmoid(x)\n",
    "x = self.output(x)\n",
    "x = self.softmax(x)\n",
    "```\n",
    "\n",
    "Here the input tensor `x` is passed through each operation and reassigned to `x`. We can see that the input tensor goes through the hidden layer, then a sigmoid function, then the output layer, and finally the softmax function. It doesn't matter what you name the variables here, as long as the inputs and outputs of the operations match the network architecture you want to build. The order in which you define things in the `__init__` method doesn't matter, but you'll need to sequence the operations correctly in the `forward` method.\n",
    "\n",
    "Now we can create a `Network` object."
   ]
  },
  {
   "cell_type": "code",
   "execution_count": 92,
   "metadata": {},
   "outputs": [
    {
     "data": {
      "text/plain": [
       "Network(\n",
       "  (hidden): Linear(in_features=784, out_features=256, bias=True)\n",
       "  (output): Linear(in_features=256, out_features=10, bias=True)\n",
       "  (sigmoid): Sigmoid()\n",
       "  (softmax): Softmax()\n",
       ")"
      ]
     },
     "execution_count": 92,
     "metadata": {},
     "output_type": "execute_result"
    }
   ],
   "source": [
    "# Create the network and look at it's text representation\n",
    "model = Network()\n",
    "model"
   ]
  },
  {
   "cell_type": "markdown",
   "metadata": {},
   "source": [
    "You can define the network somewhat more concisely and clearly using the `torch.nn.functional` module. This is the most common way you'll see networks defined as many operations are simple element-wise functions. We normally import this module as `F`, `import torch.nn.functional as F`."
   ]
  },
  {
   "cell_type": "code",
   "execution_count": 93,
   "metadata": {},
   "outputs": [],
   "source": [
    "import torch.nn.functional as F\n",
    "\n",
    "class Network(nn.Module):\n",
    "    def __init__(self):\n",
    "        super().__init__()\n",
    "        # Inputs to hidden layer linear transformation\n",
    "        self.hidden = nn.Linear(784, 256)\n",
    "        # Output layer, 10 units - one for each digit\n",
    "        self.output = nn.Linear(256, 10)\n",
    "        \n",
    "    def forward(self, x):\n",
    "        # Hidden layer with sigmoid activation\n",
    "        x = F.sigmoid(self.hidden(x))\n",
    "        # Output layer with softmax activation\n",
    "        x = F.softmax(self.output(x), dim=1)\n",
    "        \n",
    "        return x"
   ]
  },
  {
   "cell_type": "markdown",
   "metadata": {},
   "source": [
    "### Activation functions\n",
    "\n",
    "So far we've only been looking at the sigmoid activation function, but in general any function can be used as an activation function. The only requirement is that for a network to approximate a non-linear function, the activation functions must be non-linear. Here are a few more examples of common activation functions: Tanh (hyperbolic tangent), and ReLU (rectified linear unit).\n",
    "\n",
    "<img src=\"assets/activation.png\" width=700px>\n",
    "\n",
    "In practice, the ReLU function is used almost exclusively as the activation function for hidden layers."
   ]
  },
  {
   "cell_type": "markdown",
   "metadata": {},
   "source": [
    "### Your Turn to Build a Network\n",
    "\n",
    "<img src=\"assets/mlp_mnist.png\" width=600px>\n",
    "\n",
    "> **Exercise:** Create a network with 784 input units, a hidden layer with 128 units and a ReLU activation, then a hidden layer with 64 units and a ReLU activation, and finally an output layer with a softmax activation as shown above. You can use a ReLU activation with the `nn.ReLU` module or `F.relu` function.\n",
    "\n",
    "It's good practice to name your layers by their type of network, for instance 'fc' to represent a fully-connected layer. As you code your solution, use `fc1`, `fc2`, and `fc3` as your layer names."
   ]
  },
  {
   "cell_type": "code",
   "execution_count": 101,
   "metadata": {
    "scrolled": true
   },
   "outputs": [
    {
     "data": {
      "text/plain": [
       "Network(\n",
       "  (fc1): Linear(in_features=784, out_features=128, bias=True)\n",
       "  (fc2): Linear(in_features=128, out_features=64, bias=True)\n",
       "  (fc3): Linear(in_features=64, out_features=10, bias=True)\n",
       ")"
      ]
     },
     "execution_count": 101,
     "metadata": {},
     "output_type": "execute_result"
    }
   ],
   "source": [
    "## Your solution here\n",
    "##Here goes everything\n",
    "import torch.nn.functional as F\n",
    "\n",
    "\n",
    "class Network(nn.Module):\n",
    "    def __init__(self):\n",
    "        super().__init__()\n",
    "        \n",
    "        #creating my first hidden layer/fully connected layer\n",
    "        self.fc1 = nn.Linear(784,128)\n",
    "        \n",
    "        #creating my second hidden layer/fully connected layer\n",
    "        self.fc2 = nn.Linear(128,64)\n",
    "        \n",
    "        #creating my output layer\n",
    "        self.fc3 = nn.Linear(64,10)\n",
    "        \n",
    "        \n",
    "    def forward(self,x):\n",
    "        x = self.fc1(x)\n",
    "        x = F.relu(x)\n",
    "        x = self.fc2(x)\n",
    "        x = F.relu(x)\n",
    "        x = self.fc3(x)\n",
    "        x = F.softmax(x, dim=1)\n",
    "        \n",
    "        return x\n",
    "    \n",
    "model = Network()\n",
    "model        \n"
   ]
  },
  {
   "cell_type": "markdown",
   "metadata": {},
   "source": [
    "### Initializing weights and biases\n",
    "\n",
    "The weights and such are automatically initialized for you, but it's possible to customize how they are initialized. The weights and biases are tensors attached to the layer you defined, you can get them with `model.fc1.weight` for instance."
   ]
  },
  {
   "cell_type": "code",
   "execution_count": 103,
   "metadata": {},
   "outputs": [
    {
     "name": "stdout",
     "output_type": "stream",
     "text": [
      "Parameter containing:\n",
      "tensor([[ 0.0190, -0.0128, -0.0210,  ..., -0.0213, -0.0113, -0.0249],\n",
      "        [ 0.0080, -0.0163,  0.0085,  ..., -0.0164,  0.0184, -0.0073],\n",
      "        [-0.0121, -0.0151,  0.0052,  ..., -0.0289,  0.0160,  0.0353],\n",
      "        ...,\n",
      "        [ 0.0264,  0.0058,  0.0223,  ..., -0.0032,  0.0027,  0.0081],\n",
      "        [-0.0291,  0.0353, -0.0220,  ...,  0.0261, -0.0004,  0.0084],\n",
      "        [-0.0016,  0.0020, -0.0219,  ..., -0.0098,  0.0083, -0.0273]],\n",
      "       requires_grad=True)\n",
      "torch.Size([128, 784])\n",
      "Parameter containing:\n",
      "tensor([-0.0077,  0.0023,  0.0122,  0.0011,  0.0053, -0.0117,  0.0344, -0.0141,\n",
      "        -0.0350, -0.0153,  0.0292,  0.0051,  0.0339, -0.0291,  0.0039, -0.0263,\n",
      "         0.0339,  0.0277, -0.0097, -0.0176, -0.0019, -0.0163,  0.0337,  0.0080,\n",
      "        -0.0118, -0.0267, -0.0167,  0.0136,  0.0177,  0.0153,  0.0172, -0.0327,\n",
      "        -0.0090, -0.0049,  0.0139,  0.0200,  0.0028,  0.0062, -0.0008, -0.0121,\n",
      "        -0.0088,  0.0353,  0.0054, -0.0249,  0.0079,  0.0127, -0.0107,  0.0173,\n",
      "        -0.0192,  0.0323,  0.0276,  0.0105, -0.0229, -0.0031, -0.0090,  0.0221,\n",
      "         0.0261, -0.0113,  0.0024, -0.0002,  0.0228, -0.0147,  0.0285,  0.0253,\n",
      "         0.0213, -0.0235, -0.0247, -0.0294,  0.0194, -0.0340, -0.0300, -0.0341,\n",
      "        -0.0306, -0.0291,  0.0075,  0.0102,  0.0196, -0.0276, -0.0340,  0.0302,\n",
      "        -0.0287,  0.0251, -0.0019, -0.0187,  0.0137,  0.0119,  0.0346, -0.0047,\n",
      "         0.0310, -0.0273, -0.0005, -0.0187, -0.0185,  0.0114,  0.0273, -0.0240,\n",
      "         0.0290,  0.0060,  0.0297,  0.0067,  0.0101,  0.0193, -0.0070,  0.0179,\n",
      "        -0.0308,  0.0109, -0.0062, -0.0216,  0.0333,  0.0111,  0.0108,  0.0184,\n",
      "        -0.0021, -0.0030, -0.0087,  0.0275,  0.0298,  0.0107,  0.0167, -0.0020,\n",
      "        -0.0346,  0.0096,  0.0228, -0.0230,  0.0140, -0.0239,  0.0035, -0.0242],\n",
      "       requires_grad=True)\n",
      "torch.Size([128])\n"
     ]
    }
   ],
   "source": [
    "print(model.fc1.weight)\n",
    "print(model.fc1.weight.shape)\n",
    "print(model.fc1.bias)\n",
    "print(model.fc1.bias.shape)"
   ]
  },
  {
   "cell_type": "markdown",
   "metadata": {},
   "source": [
    "For custom initialization, we want to modify these tensors in place. These are actually autograd *Variables*, so we need to get back the actual tensors with `model.fc1.weight.data`. Once we have the tensors, we can fill them with zeros (for biases) or random normal values."
   ]
  },
  {
   "cell_type": "code",
   "execution_count": 106,
   "metadata": {},
   "outputs": [
    {
     "data": {
      "text/plain": [
       "tensor([0., 0., 0., 0., 0., 0., 0., 0., 0., 0., 0., 0., 0., 0., 0., 0., 0., 0., 0., 0., 0., 0., 0., 0.,\n",
       "        0., 0., 0., 0., 0., 0., 0., 0., 0., 0., 0., 0., 0., 0., 0., 0., 0., 0., 0., 0., 0., 0., 0., 0.,\n",
       "        0., 0., 0., 0., 0., 0., 0., 0., 0., 0., 0., 0., 0., 0., 0., 0., 0., 0., 0., 0., 0., 0., 0., 0.,\n",
       "        0., 0., 0., 0., 0., 0., 0., 0., 0., 0., 0., 0., 0., 0., 0., 0., 0., 0., 0., 0., 0., 0., 0., 0.,\n",
       "        0., 0., 0., 0., 0., 0., 0., 0., 0., 0., 0., 0., 0., 0., 0., 0., 0., 0., 0., 0., 0., 0., 0., 0.,\n",
       "        0., 0., 0., 0., 0., 0., 0., 0.])"
      ]
     },
     "execution_count": 106,
     "metadata": {},
     "output_type": "execute_result"
    }
   ],
   "source": [
    "# Set biases to all zeros\n",
    "model.fc1.bias.data.fill_(0)\n"
   ]
  },
  {
   "cell_type": "code",
   "execution_count": 107,
   "metadata": {},
   "outputs": [
    {
     "data": {
      "text/plain": [
       "tensor([[ 0.0047, -0.0077,  0.0066,  ..., -0.0064, -0.0017, -0.0251],\n",
       "        [ 0.0146, -0.0040, -0.0026,  ...,  0.0052, -0.0017,  0.0022],\n",
       "        [-0.0033,  0.0047, -0.0104,  ..., -0.0116, -0.0012, -0.0071],\n",
       "        ...,\n",
       "        [-0.0187,  0.0043,  0.0098,  ...,  0.0080, -0.0054,  0.0003],\n",
       "        [-0.0003,  0.0149,  0.0017,  ...,  0.0039, -0.0009,  0.0065],\n",
       "        [-0.0027, -0.0019,  0.0036,  ...,  0.0055, -0.0090, -0.0115]])"
      ]
     },
     "execution_count": 107,
     "metadata": {},
     "output_type": "execute_result"
    }
   ],
   "source": [
    "# sample from random normal with standard dev = 0.01\n",
    "model.fc1.weight.data.normal_(std=0.01)"
   ]
  },
  {
   "cell_type": "markdown",
   "metadata": {},
   "source": [
    "### Forward pass\n",
    "\n",
    "Now that we have a network, let's see what happens when we pass in an image."
   ]
  },
  {
   "cell_type": "code",
   "execution_count": 108,
   "metadata": {},
   "outputs": [
    {
     "data": {
      "image/png": "[encoded data removed]",
      "text/plain": [
       "<Figure size 432x648 with 2 Axes>"
      ]
     },
     "metadata": {
      "image/png": {
       "height": 226,
       "width": 423
      },
      "needs_background": "light"
     },
     "output_type": "display_data"
    }
   ],
   "source": [
    "# Grab some data \n",
    "dataiter = iter(trainloader)\n",
    "images, labels = dataiter.next()\n",
    "\n",
    "# Resize images into a 1D vector, new shape is (batch size, color channels, image pixels) \n",
    "images.resize_(64, 1, 784)\n",
    "# or images.resize_(images.shape[0], 1, 784) to automatically get batch size\n",
    "\n",
    "# Forward pass through the network\n",
    "img_idx = 0\n",
    "ps = model.forward(images[img_idx,:])\n",
    "\n",
    "img = images[img_idx]\n",
    "helper.view_classify(img.view(1, 28, 28), ps)"
   ]
  },
  {
   "cell_type": "markdown",
   "metadata": {},
   "source": [
    "As you can see above, our network has basically no idea what this digit is. It's because we haven't trained it yet, all the weights are random!\n",
    "\n",
    "### Using `nn.Sequential`\n",
    "\n",
    "PyTorch provides a convenient way to build networks like this where a tensor is passed sequentially through operations, `nn.Sequential` ([documentation](https://pytorch.org/docs/master/nn.html#torch.nn.Sequential)). Using this to build the equivalent network:"
   ]
  },
  {
   "cell_type": "code",
   "execution_count": 109,
   "metadata": {},
   "outputs": [
    {
     "name": "stdout",
     "output_type": "stream",
     "text": [
      "Sequential(\n",
      "  (0): Linear(in_features=784, out_features=128, bias=True)\n",
      "  (1): ReLU()\n",
      "  (2): Linear(in_features=128, out_features=64, bias=True)\n",
      "  (3): ReLU()\n",
      "  (4): Linear(in_features=64, out_features=10, bias=True)\n",
      "  (5): Softmax()\n",
      ")\n"
     ]
    },
    {
     "data": {
      "image/png": "[encoded data removed]",
      "text/plain": [
       "<Figure size 432x648 with 2 Axes>"
      ]
     },
     "metadata": {
      "image/png": {
       "height": 226,
       "width": 423
      },
      "needs_background": "light"
     },
     "output_type": "display_data"
    }
   ],
   "source": [
    "# Hyperparameters for our network\n",
    "input_size = 784\n",
    "hidden_sizes = [128, 64]\n",
    "output_size = 10\n",
    "\n",
    "# Build a feed-forward network\n",
    "model = nn.Sequential(nn.Linear(input_size, hidden_sizes[0]),\n",
    "                      nn.ReLU(),\n",
    "                      nn.Linear(hidden_sizes[0], hidden_sizes[1]),\n",
    "                      nn.ReLU(),\n",
    "                      nn.Linear(hidden_sizes[1], output_size),\n",
    "                      nn.Softmax(dim=1))\n",
    "print(model)\n",
    "\n",
    "# Forward pass through the network and display output\n",
    "images, labels = next(iter(trainloader))\n",
    "images.resize_(images.shape[0], 1, 784)\n",
    "ps = model.forward(images[0,:])\n",
    "helper.view_classify(images[0].view(1, 28, 28), ps)"
   ]
  },
  {
   "cell_type": "markdown",
   "metadata": {},
   "source": [
    "Here our model is the same as before: 784 input units, a hidden layer with 128 units, ReLU activation, 64 unit hidden layer, another ReLU, then the output layer with 10 units, and the softmax output.\n",
    "\n",
    "The operations are available by passing in the appropriate index. For example, if you want to get first Linear operation and look at the weights, you'd use `model[0]`."
   ]
  },
  {
   "cell_type": "code",
   "execution_count": 112,
   "metadata": {},
   "outputs": [
    {
     "name": "stdout",
     "output_type": "stream",
     "text": [
      "Linear(in_features=784, out_features=128, bias=True)\n"
     ]
    },
    {
     "data": {
      "text/plain": [
       "Parameter containing:\n",
       "tensor([[ 0.0187, -0.0157,  0.0232,  ...,  0.0198, -0.0229, -0.0164],\n",
       "        [ 0.0161,  0.0317,  0.0073,  ...,  0.0129,  0.0090, -0.0129],\n",
       "        [ 0.0057, -0.0174, -0.0125,  ..., -0.0217,  0.0207,  0.0208],\n",
       "        ...,\n",
       "        [-0.0244, -0.0021,  0.0337,  ...,  0.0242,  0.0216,  0.0211],\n",
       "        [ 0.0347,  0.0133,  0.0277,  ..., -0.0255,  0.0152, -0.0219],\n",
       "        [-0.0277, -0.0023, -0.0009,  ..., -0.0329, -0.0074,  0.0105]],\n",
       "       requires_grad=True)"
      ]
     },
     "execution_count": 112,
     "metadata": {},
     "output_type": "execute_result"
    }
   ],
   "source": [
    "print(model[0])\n",
    "model[0].weight"
   ]
  },
  {
   "cell_type": "markdown",
   "metadata": {},
   "source": [
    "You can also pass in an `OrderedDict` to name the individual layers and operations, instead of using incremental integers. Note that dictionary keys must be unique, so _each operation must have a different name_."
   ]
  },
  {
   "cell_type": "code",
   "execution_count": 113,
   "metadata": {},
   "outputs": [
    {
     "data": {
      "text/plain": [
       "Sequential(\n",
       "  (fc1): Linear(in_features=784, out_features=128, bias=True)\n",
       "  (relu1): ReLU()\n",
       "  (fc2): Linear(in_features=128, out_features=64, bias=True)\n",
       "  (relu2): ReLU()\n",
       "  (output): Linear(in_features=64, out_features=10, bias=True)\n",
       "  (softmax): Softmax()\n",
       ")"
      ]
     },
     "execution_count": 113,
     "metadata": {},
     "output_type": "execute_result"
    }
   ],
   "source": [
    "from collections import OrderedDict\n",
    "model = nn.Sequential(OrderedDict([\n",
    "                      ('fc1', nn.Linear(input_size, hidden_sizes[0])),\n",
    "                      ('relu1', nn.ReLU()),\n",
    "                      ('fc2', nn.Linear(hidden_sizes[0], hidden_sizes[1])),\n",
    "                      ('relu2', nn.ReLU()),\n",
    "                      ('output', nn.Linear(hidden_sizes[1], output_size)),\n",
    "                      ('softmax', nn.Softmax(dim=1))]))\n",
    "model"
   ]
  },
  {
   "cell_type": "markdown",
   "metadata": {},
   "source": [
    "Now you can access layers either by integer or the name"
   ]
  },
  {
   "cell_type": "code",
   "execution_count": 114,
   "metadata": {},
   "outputs": [
    {
     "name": "stdout",
     "output_type": "stream",
     "text": [
      "Linear(in_features=784, out_features=128, bias=True)\n",
      "Linear(in_features=784, out_features=128, bias=True)\n"
     ]
    }
   ],
   "source": [
    "print(model[0])\n",
    "print(model.fc1)"
   ]
  },
  {
   "cell_type": "markdown",
   "metadata": {},
   "source": [
    "In the next notebook, we'll see how we can train a neural network to accuractly predict the numbers appearing in the MNIST images."
   ]
  },
  {
   "cell_type": "code",
   "execution_count": null,
   "metadata": {},
   "outputs": [],
   "source": []
  }
 ],
 "metadata": {
  "kernelspec": {
   "display_name": "Python 3",
   "language": "python",
   "name": "python3"
  },
  "language_info": {
   "codemirror_mode": {
    "name": "ipython",
    "version": 3
   },
   "file_extension": ".py",
   "mimetype": "text/x-python",
   "name": "python",
   "nbconvert_exporter": "python",
   "pygments_lexer": "ipython3",
   "version": "3.7.3"
  }
 },
 "nbformat": 4,
 "nbformat_minor": 2
}
